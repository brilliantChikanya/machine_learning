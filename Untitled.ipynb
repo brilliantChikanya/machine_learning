{
 "cells": [
  {
   "cell_type": "code",
   "execution_count": 1,
   "id": "5ec5fec9",
   "metadata": {},
   "outputs": [],
   "source": [
    "import statsmodels.api as sm\n",
    "import statsmodels.formula.api as smf\n",
    "import statsmodels.graphics.api as smg\n",
    "import matplotlib.pyplot as plt\n",
    "import pandas as pd\n",
    "from scipy import stats\n",
    "import numpy as np"
   ]
  },
  {
   "cell_type": "markdown",
   "id": "abfd9406",
   "metadata": {},
   "source": [
    "The statsmodels library supports several types of statistical models that are applicable\n",
    "in varying situations, but nearly all follow the same usage pattern, which makes it easy\n",
    "to switch between different models. Statistical models in statsmodels are represented\n",
    "by model classes. These can be initiated given the design matrices for the response and\n",
    "explanatory variables of a linear model or given a Patsy formula and a data frame (or\n",
    "another dictionary-like object). The basic workflow when setting up and analyzing a\n",
    "statistical model with statsmodels includes the following steps:"
   ]
  },
  {
   "cell_type": "markdown",
   "id": "9e66b18c",
   "metadata": {},
   "source": [
    "1. Create an instance of a model class, for example, using \n",
    "\n",
    "model = sm.MODEL(y, X) or \n",
    "\n",
    "model = smf.model(formula, data),\n",
    "\n",
    "where:\n",
    "\n",
    "MODEL and model are the name of a particular model, such as OLS,\n",
    "GLS, Logit, etc. Here the convention is that uppercase names\n",
    "are used for classes that take design matrices as arguments and\n",
    "lowercase names for classes that take Patsy formulas and data\n",
    "frames as arguments."
   ]
  },
  {
   "cell_type": "markdown",
   "id": "35f484fb",
   "metadata": {},
   "source": [
    "2. Creating a model instance does not perform any computations. To\n",
    "fit the model to the data, we must invoke the fit method, \n",
    "\n",
    "result = model.fit(), \n",
    "\n",
    "which performs the fit and returns a result object that has methods and attributes for further analysis."
   ]
  },
  {
   "cell_type": "markdown",
   "id": "4cf8415e",
   "metadata": {},
   "source": [
    "3. Print summary statistics for the result object returned by the\n",
    "fit method. The result object varies in content slightly for each\n",
    "statistical model, but most models implement the method summary, which produces a summary text that describes the result of the fit, including several types of statistics that can be useful\n",
    "for judging if the statistical model successfully explains the data.\n",
    "Viewing the output from the summary method is usually a good starting point when analyzing the result of a fitting process."
   ]
  },
  {
   "cell_type": "markdown",
   "id": "515f82ae",
   "metadata": {},
   "source": [
    "4. Post-process the model fit results: in addition to the summary\n",
    "method, the result object also contains methods and attributes\n",
    "for obtaining the fitted parameters (params), the residual for the\n",
    "model and the data (resid), the fitted values (fittedvalues), and a\n",
    "method for predicting the value of the response variables for new\n",
    "independent variables (predict).\n"
   ]
  },
  {
   "cell_type": "markdown",
   "id": "61c43c6c",
   "metadata": {},
   "source": [
    "5. Finally, it may be useful to visualize the result of the fitting, for\n",
    "example, with the Matplotlib and Seaborn graphics libraries,\n",
    "of using some of the many graphing routines that are directly\n",
    "included in the statsmodels library (see the statsmodels.\n",
    "graphics module)."
   ]
  },
  {
   "cell_type": "raw",
   "id": "0fbce201",
   "metadata": {},
   "source": [
    "To demonstrate this workflow with a simple example, in the following we consider fitting a model to generate data whose true value is \n",
    "y = 1 + 2x1 + 3x2 + 4x1x2. \n",
    "We begin with storing the data in a Pandas data frame object:"
   ]
  },
  {
   "cell_type": "code",
   "execution_count": 2,
   "id": "2048a105",
   "metadata": {},
   "outputs": [
    {
     "data": {
      "text/html": [
       "<div>\n",
       "<style scoped>\n",
       "    .dataframe tbody tr th:only-of-type {\n",
       "        vertical-align: middle;\n",
       "    }\n",
       "\n",
       "    .dataframe tbody tr th {\n",
       "        vertical-align: top;\n",
       "    }\n",
       "\n",
       "    .dataframe thead th {\n",
       "        text-align: right;\n",
       "    }\n",
       "</style>\n",
       "<table border=\"1\" class=\"dataframe\">\n",
       "  <thead>\n",
       "    <tr style=\"text-align: right;\">\n",
       "      <th></th>\n",
       "      <th>x1</th>\n",
       "      <th>x2</th>\n",
       "      <th>y_true</th>\n",
       "    </tr>\n",
       "  </thead>\n",
       "  <tbody>\n",
       "    <tr>\n",
       "      <th>0</th>\n",
       "      <td>0.654676</td>\n",
       "      <td>-0.566894</td>\n",
       "      <td>0.257930</td>\n",
       "    </tr>\n",
       "    <tr>\n",
       "      <th>1</th>\n",
       "      <td>1.714979</td>\n",
       "      <td>0.515083</td>\n",
       "      <td>8.478469</td>\n",
       "    </tr>\n",
       "    <tr>\n",
       "      <th>2</th>\n",
       "      <td>-1.142577</td>\n",
       "      <td>0.472111</td>\n",
       "      <td>-2.970739</td>\n",
       "    </tr>\n",
       "    <tr>\n",
       "      <th>3</th>\n",
       "      <td>-0.187018</td>\n",
       "      <td>-0.904699</td>\n",
       "      <td>0.398045</td>\n",
       "    </tr>\n",
       "    <tr>\n",
       "      <th>4</th>\n",
       "      <td>-1.443498</td>\n",
       "      <td>0.774859</td>\n",
       "      <td>-5.586164</td>\n",
       "    </tr>\n",
       "  </tbody>\n",
       "</table>\n",
       "</div>"
      ],
      "text/plain": [
       "         x1        x2    y_true\n",
       "0  0.654676 -0.566894  0.257930\n",
       "1  1.714979  0.515083  8.478469\n",
       "2 -1.142577  0.472111 -2.970739\n",
       "3 -0.187018 -0.904699  0.398045\n",
       "4 -1.443498  0.774859 -5.586164"
      ]
     },
     "execution_count": 2,
     "metadata": {},
     "output_type": "execute_result"
    }
   ],
   "source": [
    "N = 100\n",
    "x1 = np.random.randn(N)\n",
    "x2 = np.random.randn(N)\n",
    "data = pd.DataFrame({'x1': x1, 'x2': x2})\n",
    "\n",
    "\n",
    "def y_true(x1, x2):\n",
    "    return 1 + 2* x1 + x2 + 4 * x1 * x2\n",
    "\n",
    "data['y_true'] = y_true(x1, x2)\n",
    "data.head()"
   ]
  },
  {
   "cell_type": "markdown",
   "id": "cea31df9",
   "metadata": {},
   "source": [
    "Here we have stored the true value of y in the y_true column in the DataFrame object\n",
    "data. We simulate a noisy observation of y by adding a normal distributed noise to the\n",
    "true values and store the result in the y column:"
   ]
  },
  {
   "cell_type": "code",
   "execution_count": 3,
   "id": "b6a516a1",
   "metadata": {},
   "outputs": [
    {
     "data": {
      "text/html": [
       "<div>\n",
       "<style scoped>\n",
       "    .dataframe tbody tr th:only-of-type {\n",
       "        vertical-align: middle;\n",
       "    }\n",
       "\n",
       "    .dataframe tbody tr th {\n",
       "        vertical-align: top;\n",
       "    }\n",
       "\n",
       "    .dataframe thead th {\n",
       "        text-align: right;\n",
       "    }\n",
       "</style>\n",
       "<table border=\"1\" class=\"dataframe\">\n",
       "  <thead>\n",
       "    <tr style=\"text-align: right;\">\n",
       "      <th></th>\n",
       "      <th>x1</th>\n",
       "      <th>x2</th>\n",
       "      <th>y_true</th>\n",
       "      <th>y</th>\n",
       "    </tr>\n",
       "  </thead>\n",
       "  <tbody>\n",
       "    <tr>\n",
       "      <th>0</th>\n",
       "      <td>0.654676</td>\n",
       "      <td>-0.566894</td>\n",
       "      <td>0.257930</td>\n",
       "      <td>0.691431</td>\n",
       "    </tr>\n",
       "    <tr>\n",
       "      <th>1</th>\n",
       "      <td>1.714979</td>\n",
       "      <td>0.515083</td>\n",
       "      <td>8.478469</td>\n",
       "      <td>8.265720</td>\n",
       "    </tr>\n",
       "    <tr>\n",
       "      <th>2</th>\n",
       "      <td>-1.142577</td>\n",
       "      <td>0.472111</td>\n",
       "      <td>-2.970739</td>\n",
       "      <td>-2.007216</td>\n",
       "    </tr>\n",
       "    <tr>\n",
       "      <th>3</th>\n",
       "      <td>-0.187018</td>\n",
       "      <td>-0.904699</td>\n",
       "      <td>0.398045</td>\n",
       "      <td>0.052637</td>\n",
       "    </tr>\n",
       "    <tr>\n",
       "      <th>4</th>\n",
       "      <td>-1.443498</td>\n",
       "      <td>0.774859</td>\n",
       "      <td>-5.586164</td>\n",
       "      <td>-5.580239</td>\n",
       "    </tr>\n",
       "  </tbody>\n",
       "</table>\n",
       "</div>"
      ],
      "text/plain": [
       "         x1        x2    y_true         y\n",
       "0  0.654676 -0.566894  0.257930  0.691431\n",
       "1  1.714979  0.515083  8.478469  8.265720\n",
       "2 -1.142577  0.472111 -2.970739 -2.007216\n",
       "3 -0.187018 -0.904699  0.398045  0.052637\n",
       "4 -1.443498  0.774859 -5.586164 -5.580239"
      ]
     },
     "execution_count": 3,
     "metadata": {},
     "output_type": "execute_result"
    }
   ],
   "source": [
    "e = 0.5 * np.random.randn(N)\n",
    "data['y'] = data['y_true'] + e\n",
    "data.head()"
   ]
  },
  {
   "cell_type": "raw",
   "id": "fb43c8f1",
   "metadata": {},
   "source": [
    "Now, from the data we know that we have two explanatory variables, x1 and x2, in addition to the response variable y. The simplest possible model we can start with is the linear model \n",
    "\n",
    "Y = β0 + β1x1 + β2x2, \n",
    "\n",
    "which we can define with the Patsy formula \"y ~ x1 + x2\".\n",
    "Since the response variable is continuous, it is a good starting point to fit the model to the data using ordinary linear squares:"
   ]
  },
  {
   "cell_type": "code",
   "execution_count": 4,
   "id": "52ad95da",
   "metadata": {},
   "outputs": [],
   "source": [
    "model = smf.ols('y ~ x1 + x2', data)\n",
    "result = model.fit()"
   ]
  },
  {
   "cell_type": "markdown",
   "id": "57f8daca",
   "metadata": {},
   "source": [
    "Remember that ordinary least square regression assumes that the residuals of the\n",
    "fitted model and the data are normally distributed. However, before analyzing the\n",
    "data, we might not know if this condition is satisfied or not. Nonetheless, we can start\n",
    "by fitting the data to the model and investigate the distribution of the residual using\n",
    "graphical methods and statistical tests (with the null hypothesis that the residuals are\n",
    "indeed normally distributed). A lot of useful information, including several types of test\n",
    "statistics, can be displayed using the summary method:"
   ]
  },
  {
   "cell_type": "code",
   "execution_count": 5,
   "id": "645f99af",
   "metadata": {},
   "outputs": [
    {
     "name": "stdout",
     "output_type": "stream",
     "text": [
      "                            OLS Regression Results                            \n",
      "==============================================================================\n",
      "Dep. Variable:                      y   R-squared:                       0.231\n",
      "Model:                            OLS   Adj. R-squared:                  0.216\n",
      "Method:                 Least Squares   F-statistic:                     14.60\n",
      "Date:                Wed, 11 Jan 2023   Prob (F-statistic):           2.86e-06\n",
      "Time:                        10:57:17   Log-Likelihood:                -287.04\n",
      "No. Observations:                 100   AIC:                             580.1\n",
      "Df Residuals:                      97   BIC:                             587.9\n",
      "Df Model:                           2                                         \n",
      "Covariance Type:            nonrobust                                         \n",
      "==============================================================================\n",
      "                 coef    std err          t      P>|t|      [0.025      0.975]\n",
      "------------------------------------------------------------------------------\n",
      "Intercept     -0.0390      0.435     -0.090      0.929      -0.902       0.824\n",
      "x1             2.3478      0.435      5.401      0.000       1.485       3.211\n",
      "x2             0.5734      0.408      1.404      0.164      -0.237       1.384\n",
      "==============================================================================\n",
      "Omnibus:                       17.793   Durbin-Watson:                   1.942\n",
      "Prob(Omnibus):                  0.000   Jarque-Bera (JB):               43.381\n",
      "Skew:                          -0.580   Prob(JB):                     3.80e-10\n",
      "Kurtosis:                       6.011   Cond. No.                         1.28\n",
      "==============================================================================\n",
      "\n",
      "Notes:\n",
      "[1] Standard Errors assume that the covariance matrix of the errors is correctly specified.\n"
     ]
    }
   ],
   "source": [
    "print(result.summary())"
   ]
  },
  {
   "cell_type": "markdown",
   "id": "09aba9c0",
   "metadata": {},
   "source": [
    "To begin with, the\n",
    "R-squared value is a statistic that indicates how well the model fits the data. It can take\n",
    "values between 0 and 1, where an R-squared statistic of 1 corresponds to a perfect fit.\n",
    "The R-squared value of 0.380 reported in the preceding summary method is rather poor,\n",
    "and it indicates that we need to refine our model (which is expected, since we left out\n",
    "the interaction term x1 ∙ x2). We can also explicitly access the R-squared statistic from the\n",
    "result object using the rsquared attribute."
   ]
  },
  {
   "cell_type": "code",
   "execution_count": 6,
   "id": "2fc8c401",
   "metadata": {},
   "outputs": [
    {
     "data": {
      "text/plain": [
       "0.23142799641067102"
      ]
     },
     "execution_count": 6,
     "metadata": {},
     "output_type": "execute_result"
    }
   ],
   "source": [
    "result.rsquared"
   ]
  },
  {
   "cell_type": "markdown",
   "id": "bfa12490",
   "metadata": {},
   "source": [
    "Furthermore, the coef column in the middle of the table provides the fitted model\n",
    "parameters. Assuming that the residuals indeed are normally distributed, the std err\n",
    "column provides an estimate of the standard errors for the model coefficients, and the t\n",
    "and P>|t| columns are the t-statistics and the corresponding p-value for the statistical\n",
    "test with the null hypothesis that the corresponding coefficient is zero. Therefore, while\n",
    "keeping in mind that this analysis assumes that the residuals are normally distributed,\n",
    "we can look for the columns with small p-values and judge which explanatory variables\n",
    "have coefficients that are very likely to be different from zero (meaning that they have a\n",
    "significant predictive power)."
   ]
  },
  {
   "cell_type": "markdown",
   "id": "28c1af6d",
   "metadata": {},
   "source": [
    "To investigate whether the assumption of normal distributed errors is justified, we\n",
    "need to look at the residuals of the model fit to the data. The residuals are accessible via\n",
    "the resid attribute of the result object:"
   ]
  },
  {
   "cell_type": "code",
   "execution_count": 8,
   "id": "bd60adcd",
   "metadata": {},
   "outputs": [
    {
     "data": {
      "text/plain": [
       "0   -0.481577\n",
       "1    3.982984\n",
       "2    0.443602\n",
       "3    1.049428\n",
       "4   -2.596512\n",
       "dtype: float64"
      ]
     },
     "execution_count": 8,
     "metadata": {},
     "output_type": "execute_result"
    }
   ],
   "source": [
    "result.resid.head()"
   ]
  },
  {
   "cell_type": "markdown",
   "id": "dbeef3d4",
   "metadata": {},
   "source": [
    "Using these residuals, we can check for normality using the normaltest function\n",
    "from the SciPy stats module:"
   ]
  },
  {
   "cell_type": "code",
   "execution_count": 9,
   "id": "bdc60d1a",
   "metadata": {},
   "outputs": [
    {
     "data": {
      "text/plain": [
       "0.9221276781830073"
      ]
     },
     "execution_count": 9,
     "metadata": {},
     "output_type": "execute_result"
    }
   ],
   "source": [
    "z, p = stats.normaltest(result.fittedvalues.values)\n",
    "p"
   ]
  },
  {
   "cell_type": "code",
   "execution_count": 10,
   "id": "a22db4f4",
   "metadata": {},
   "outputs": [
    {
     "data": {
      "image/png": "[encoded data removed]",
      "text/plain": [
       "<Figure size 800x400 with 1 Axes>"
      ]
     },
     "execution_count": 10,
     "metadata": {},
     "output_type": "execute_result"
    },
    {
     "data": {
      "image/png": "[encoded data removed]",
      "text/plain": [
       "<Figure size 800x400 with 1 Axes>"
      ]
     },
     "metadata": {},
     "output_type": "display_data"
    }
   ],
   "source": [
    "fig, ax = plt.subplots(figsize=(8, 4))\n",
    "smg.qqplot(result.resid, ax=ax)"
   ]
  },
  {
   "cell_type": "code",
   "execution_count": 18,
   "id": "84bc472d",
   "metadata": {},
   "outputs": [
    {
     "data": {
      "text/plain": [
       "array([ 1.17300743e+00,  4.28273624e+00, -2.45081783e+00, -9.96790533e-01,\n",
       "       -2.98372761e+00, -1.55425417e+00,  1.49435050e-01,  1.56254662e+00,\n",
       "       -2.10844706e+00, -3.85512061e+00,  3.85979593e+00, -3.03346203e+00,\n",
       "       -9.02125581e-02,  1.81482898e+00, -1.42666920e+00, -5.28233057e+00,\n",
       "       -9.87499391e-01, -8.86745854e-01, -1.26886739e+00,  1.32625889e+00,\n",
       "        5.17093853e-01,  1.50839698e+00, -2.91337807e+00,  1.94922701e+00,\n",
       "       -5.48684356e+00,  6.96585766e-01, -2.86088295e+00,  4.22728388e+00,\n",
       "        1.74775566e+00, -9.94310113e-01,  1.87702459e+00,  2.66308254e-01,\n",
       "       -3.77554937e+00, -1.28713376e-01, -8.39489207e-01, -9.87783733e-01,\n",
       "       -1.19110289e+00,  3.93729566e-04,  2.92907984e-02,  4.52242840e-01,\n",
       "       -3.11785577e-01, -2.44531766e+00,  1.99267050e+00, -9.99989614e-01,\n",
       "       -1.87770233e+00, -2.14135351e+00,  1.65444972e+00,  1.43327354e+00,\n",
       "        2.34222225e+00, -5.96075989e-01,  7.90151606e-01,  4.66182853e-01,\n",
       "        7.17286452e-01,  4.13862080e+00, -2.62228225e-01, -7.83818263e-01,\n",
       "        7.80792601e-01, -4.76085715e-01, -6.17903228e-01,  6.25457972e-01,\n",
       "        4.13474494e+00, -2.03559174e+00, -1.44034869e+00, -1.39425006e+00,\n",
       "       -6.98937856e-01,  1.86994670e-01, -3.28314946e-01,  4.81187922e-02,\n",
       "       -1.49977727e+00,  2.74294858e+00,  1.83916099e+00,  3.00654818e+00,\n",
       "        4.24190052e-01, -5.09771943e+00, -3.69004696e+00,  3.19945615e-01,\n",
       "        1.14382369e+00,  1.50298428e+00, -1.27956817e+00,  2.96020764e+00,\n",
       "       -3.17734220e+00,  3.85183590e+00,  2.81590604e+00,  3.36492278e+00,\n",
       "        1.94797298e+00, -7.24506987e-01, -6.89053748e-01,  6.87143731e-01,\n",
       "        3.10978630e+00,  1.89583294e+00, -2.93398283e+00, -3.97690432e+00,\n",
       "       -2.43088400e+00,  3.96160755e+00, -1.98597097e+00,  6.22975545e+00,\n",
       "       -2.77203642e+00,  1.91983101e-01,  3.62340432e+00, -2.25540510e+00])"
      ]
     },
     "execution_count": 18,
     "metadata": {},
     "output_type": "execute_result"
    }
   ],
   "source": [
    "result.fittedvalues.values"
   ]
  },
  {
   "cell_type": "code",
   "execution_count": null,
   "id": "5c2f88ef",
   "metadata": {},
   "outputs": [],
   "source": []
  }
 ],
 "metadata": {
  "kernelspec": {
   "display_name": "Python 3 (ipykernel)",
   "language": "python",
   "name": "python3"
  },
  "language_info": {
   "codemirror_mode": {
    "name": "ipython",
    "version": 3
   },
   "file_extension": ".py",
   "mimetype": "text/x-python",
   "name": "python",
   "nbconvert_exporter": "python",
   "pygments_lexer": "ipython3",
   "version": "3.10.8"
  }
 },
 "nbformat": 4,
 "nbformat_minor": 5
}
