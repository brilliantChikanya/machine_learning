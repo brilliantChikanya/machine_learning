{
 "cells": [
  {
   "cell_type": "code",
   "execution_count": 1,
   "id": "af908255",
   "metadata": {},
   "outputs": [],
   "source": [
    "import collections"
   ]
  },
  {
   "cell_type": "code",
   "execution_count": 2,
   "id": "e26483ba",
   "metadata": {},
   "outputs": [
    {
     "name": "stdout",
     "output_type": "stream",
     "text": [
      "ChainMap\n",
      "Counter\n",
      "OrderedDict\n",
      "UserDict\n",
      "UserList\n",
      "UserString\n",
      "_Link\n",
      "_OrderedDictItemsView\n",
      "_OrderedDictKeysView\n",
      "_OrderedDictValuesView\n",
      "__all__\n",
      "__builtins__\n",
      "__cached__\n",
      "__doc__\n",
      "__file__\n",
      "__loader__\n",
      "__name__\n",
      "__package__\n",
      "__path__\n",
      "__spec__\n",
      "_chain\n",
      "_collections_abc\n",
      "_count_elements\n",
      "_eq\n",
      "_iskeyword\n",
      "_itemgetter\n",
      "_proxy\n",
      "_recursive_repr\n",
      "_repeat\n",
      "_starmap\n",
      "_sys\n",
      "_tuplegetter\n",
      "abc\n",
      "defaultdict\n",
      "deque\n",
      "namedtuple\n"
     ]
    }
   ],
   "source": [
    "for i in dir(collections):\n",
    "    print(i)"
   ]
  },
  {
   "cell_type": "markdown",
   "id": "f06b5fff",
   "metadata": {},
   "source": [
    "# Named Tuple"
   ]
  },
  {
   "cell_type": "markdown",
   "id": "9b05084f",
   "metadata": {},
   "source": [
    "A named tuple creates a tuple with named fields that are similar to regular tuples.\\\n",
    "They provide an extension to the built-in tuple data type. \\\n",
    "Named tuples contain keys that are mapped to a particular value, and we can iterate through them\\\n",
    "either by index or key.\\\n",
    "They are mainly useful when several tuples are used in an application and it is imprtant to\\\n",
    "keep track of each tuple in terms of what they represent.\\\n",
    "Here is an example:"
   ]
  },
  {
   "cell_type": "code",
   "execution_count": 7,
   "id": "4452a964",
   "metadata": {},
   "outputs": [
    {
     "name": "stdout",
     "output_type": "stream",
     "text": [
      "Using the index:  Male\n",
      "Using the key:  25\n"
     ]
    }
   ],
   "source": [
    "from collections import namedtuple\n",
    "\n",
    "Person = namedtuple('Person', ['name', 'gender', 'age'])\n",
    "\n",
    "Person1 = Person('Brilliant', 'Male', '25')\n",
    "\n",
    "# Accessing the data items:\n",
    "print('Using the index: ', Person1[1])\n",
    "print('Using the key: ', Person1.age)"
   ]
  },
  {
   "cell_type": "markdown",
   "id": "e236671c",
   "metadata": {},
   "source": [
    "In the code above, Book is a named tuples' \"class,\" and we created an instance of that namedtuple, Book1.\\\n",
    "We can see that the data elements for the namedtuple can be accessed using both the index and key methods.from"
   ]
  },
  {
   "cell_type": "markdown",
   "id": "827306ac",
   "metadata": {},
   "source": [
    "# Default Dictionary"
   ]
  },
  {
   "cell_type": "markdown",
   "id": "821aa133",
   "metadata": {},
   "source": [
    "The defaultdict is a subclass of the built-in dictionary class (dict), having the same methods and operations.\\\n",
    "A defaultdict has an advantage over the normal dictionary in that it never raises a KeyError.\\\n",
    "As such, defaultdict is a convinient way to initialize dictionaries:\\\n",
    "                                 default_dict = defaultdict(default_value)"
   ]
  },
  {
   "cell_type": "code",
   "execution_count": 11,
   "id": "9d991afd",
   "metadata": {},
   "outputs": [
    {
     "name": "stdout",
     "output_type": "stream",
     "text": [
      "defaultdict(<class 'int'>, {'My': 1, 'name': 1, 'is': 1, 'Brilliant': 1, 'Chikanya': 1})\n"
     ]
    }
   ],
   "source": [
    "from collections import defaultdict\n",
    "dicti = defaultdict(int)\n",
    "sentence = 'My name is Brilliant Chikanya'\n",
    "words = sentence.split()\n",
    "for word in words:\n",
    "    dicti[word] += 1\n",
    "    \n",
    "print(dict)"
   ]
  },
  {
   "cell_type": "markdown",
   "id": "5de34f4b",
   "metadata": {},
   "source": [
    "The preceding example, when the first key was added, the int() function supplied as an argument returns a zero.\\\n",
    "If an ordinary dictionary was used instead, a KeyError would have been raised."
   ]
  },
  {
   "cell_type": "markdown",
   "id": "21545a55",
   "metadata": {},
   "source": [
    "# Counter objects"
   ]
  },
  {
   "cell_type": "code",
   "execution_count": null,
   "id": "3800f468",
   "metadata": {},
   "outputs": [],
   "source": []
  }
 ],
 "metadata": {
  "kernelspec": {
   "display_name": "Python 3 (ipykernel)",
   "language": "python",
   "name": "python3"
  },
  "language_info": {
   "codemirror_mode": {
    "name": "ipython",
    "version": 3
   },
   "file_extension": ".py",
   "mimetype": "text/x-python",
   "name": "python",
   "nbconvert_exporter": "python",
   "pygments_lexer": "ipython3",
   "version": "3.10.8"
  }
 },
 "nbformat": 4,
 "nbformat_minor": 5
}
